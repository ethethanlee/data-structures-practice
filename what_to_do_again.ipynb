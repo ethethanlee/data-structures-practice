{
 "cells": [
  {
   "cell_type": "markdown",
   "metadata": {},
   "source": []
  },
  {
   "cell_type": "markdown",
   "metadata": {},
   "source": [
    "Ok so\n",
    "searchinrotatedsortedarray\n",
    "totalfruit\n",
    "containerwithmostwater\n",
    "zigzagconversion ?\n",
    "findmediansortedarrays\n",
    "threesum\n",
    "wordbreak, palindromic, houserobber"
   ]
  },
  {
   "cell_type": "markdown",
   "metadata": {},
   "source": [
    "hm"
   ]
  }
 ],
 "metadata": {
  "kernelspec": {
   "display_name": "Python 3.9.13 64-bit",
   "language": "python",
   "name": "python3"
  },
  "language_info": {
   "name": "python",
   "version": "3.9.13"
  },
  "orig_nbformat": 4,
  "vscode": {
   "interpreter": {
    "hash": "b0fa6594d8f4cbf19f97940f81e996739fb7646882a419484c72d19e05852a7e"
   }
  }
 },
 "nbformat": 4,
 "nbformat_minor": 2
}
